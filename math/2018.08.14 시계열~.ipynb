{
 "cells": [
  {
   "cell_type": "code",
   "execution_count": 14,
   "metadata": {},
   "outputs": [],
   "source": [
    "%matplotlib inline"
   ]
  },
  {
   "cell_type": "markdown",
   "metadata": {},
   "source": [
    "# < 시계열 자료와 확률 과정 >"
   ]
  },
  {
   "cell_type": "markdown",
   "metadata": {},
   "source": [
    "### 확률 과정\n",
    "- 시간에 따라 변하는 데이터\n",
    "- 우리는 기존에 data를 다룰때 randomvariable을 사용\n",
    "- but 시계열 자료를 다룰때는 random process을 사용\n",
    "- = random variable을 한줄로 연결"
   ]
  },
  {
   "cell_type": "markdown",
   "metadata": {},
   "source": [
    "##### 삼성전자 주식의 시계열 샘플은?\n",
    "- 단 한개 임\n",
    "- 주식이라는 것은 굉장히 복잡함\n",
    "- 엔진 실험은 같은 조건에서 여러번 반복실험이 가능함\n",
    "- 하지만 사회적인 것들은 이세상에 샘플이 하나임.\n",
    "- 샘플이 하나있는데 그것으로 y값을 알수있나...?\n",
    "- 우리는 Y6의 데이터를 알려고할때 평행우주(다른 샘플)에 여러 데이터를 끌어서 봄"
   ]
  },
  {
   "cell_type": "markdown",
   "metadata": {},
   "source": [
    "### 앙상블평균\n",
    "### 확률 과정의 기댓값, 자기 공분산, 자기 상관계수\n",
    "- 우리는 공분산보다는 normalize시킨 상관계수를 많이 사용함"
   ]
  },
  {
   "cell_type": "code",
   "execution_count": null,
   "metadata": {},
   "outputs": [],
   "source": []
  },
  {
   "cell_type": "markdown",
   "metadata": {},
   "source": [
    "# < 정상 확률 과정과 비정상 확률 과정 >"
   ]
  },
  {
   "cell_type": "markdown",
   "metadata": {},
   "source": [
    "### 정상 확률 과정\n",
    "- 1차 모멘트 부터 4차모멘트 까지 같으면 같은 모형\n",
    "- 하지만 우리는 2차 모멘트정도 같으면 같은것으로 판단\n",
    "- t가 s로 바뀜 = t,s의 출발점이 다름 (시간 간격은 동일함)\n",
    "- 예를 들어서 1800년 ~ 1805년 = 2015년 ~ 2020년\n",
    "- 1차 모멘트 = 기댓값\n",
    "- 2차 모멘트 = Y_t와 Y_t+k의 상관 관계를 나타냄 (s도 동일)\n",
    "- = 1800년이 1801년에 미치는 영향이 2018년이 2019년에 미치는 영향과 같다.\n",
    "- k를 타임 레그 = 시간차이 라고 부름\n",
    "- 이러한 작업을 stationary process\n",
    "- 이것이 3차까지 같으면 좁은 의미의 stationary process\n",
    "- 이것이 2차까지 같으면 넓은 의미의 stationary process"
   ]
  },
  {
   "cell_type": "markdown",
   "metadata": {},
   "source": [
    "### 에르고딕 확률 과정\n",
    "- 우리는 과거값을 모아서 한 시점에서 나왔다고 하면 그냥 그렇게 됨\n",
    "- 무조건 앞뒤보지않고 한시점만 계속 들여다보고 있음\n",
    "- 확률 분포가 같다는 것은 무조건 부(하나만 들여다봤을때) 같다는 것임\n",
    "- 기대값같은 것을 평행우주로 가지않고 과거것으로 사용\n",
    "\n",
    "- 원래 한시점을 구하려면 여러번 실험해야하는데\n",
    "- 이것이 만약 정상 신호라면  = stationary signal 이면 과거 데이터를 보고 이렇게 될것이다! 가 있음\n",
    "- stationary은 내가 어떤시점에 있어도 같음"
   ]
  },
  {
   "cell_type": "markdown",
   "metadata": {},
   "source": [
    "### 비정상 확률 과정\n",
    "- 가위 바위 보 해서 이기면 한칸 위로 지면 한칸 아래로\n",
    "- 100칸 뒤에는 자기 자리에 있을 확률이 가장높음\n",
    "- 여기서는 500번을 한거야\n",
    "- 내일의 주가는 오를까 내릴까를 예측하는것은 가위바위보하는 것임 = 운빨\n",
    "- 여기보면 non stationary임\n",
    "- but 100번 했을 때나 200번 한것둘다 0.5가 기댓값\n",
    "- 우리가 평행우주를 돌아다니다가 게임한 상황을 모아보면 맨밑에 그래프처럼 됨 = 기댓값이 같음\n",
    "- but 폭은 점점 넓어짐\n",
    "- 폭이 달라서 두 그래프가 non stationary = 비정상 확률 "
   ]
  },
  {
   "cell_type": "markdown",
   "metadata": {},
   "source": [
    "##### +alpha\n",
    "- 기댓값과 분산이 같은 데 non stationary할수있음\n",
    "- 상관 관계가 앞부분엔 없었는데 점점 커질수도있음\n",
    "- 좁은 시간을 보면 대부분 자연에서 나오는 것들은 stationary임\n",
    "- 넓은 시간을 보면 대부분 자연에서 나오는 것들은 nonstationary임\n",
    "- 우리는 정상인 시계열 확률과정만 분석이 가능\n",
    "- 경제학 적인 것들은 하나도 분석을못하냐...\n",
    "- 그것은 비정상인 신호를 정상인 신호로 바꿔서 분석을함"
   ]
  },
  {
   "cell_type": "markdown",
   "metadata": {},
   "source": []
  },
  {
   "cell_type": "markdown",
   "metadata": {},
   "source": [
    "# < 백색 잡음 >"
   ]
  },
  {
   "cell_type": "markdown",
   "metadata": {},
   "source": [
    "- stationary에 독립이기 까지함 (i,i,d) = 확률 변수의 반복시행\n",
    "- 이것은 사실 확률 변수 하나임\n",
    "- 자기자신과는 상관관계가 1 \n",
    "- 한칸이라도 띄면 바로0\n",
    "- 시계열에서 가장 많이 쓰는 확률분포는 가우시안 노말\n",
    "##### 시계열에서 어떤 의미를 가지냐?\n",
    "- 시계열은 예측하기 힘듬, 왜냐면 확률 적인것때문에 \n",
    "- 백색잡음은 사람이 예측하지 못한 정보를 ynoise로 모델링(=주사위=뭐가나올지모름)\n",
    "##### < 주식 얘기를 알아야함 >\n",
    "    - 내가 주식을 샀어 근대 이게 순수익이 매년 10%이익이 났어\n",
    "    - 그니깐 앞으로 꾸준히 10%씩 오르면 내가 매년 10%씩 얻을 거야\n",
    "    - 위의 이말은 노답\n",
    "    - 우리가 치킨집을 차렸어\n",
    "    - 1억을 세우고 주식을 1주를 했어\n",
    "    - 그 한주를 가진 사람이 치킨 가게 주인\n",
    "    - 그리고 개업하고 핵대박 -> 순수익이 1년 1억\n",
    "    - 근대 가게를 5년 지나면 없어져 ㄷㄷ\n",
    "    - 그럼 앞으로 5년 동안 벌면 5억 버는 거잖아?\n",
    "    - 그럼 5년 동안 1억, 1억~~ 해서 5억?\n",
    "    - 이말도 같은 말\n",
    "    - 주가라는 것은 앞으로 벌어다줄 총 수입의 현재의 예측액임\n",
    "    - 다들 5억이라고 예측하는데 누가 4억이라고 말하면 ? 말이 안됨\n",
    "    - 한 분석가 : 이 주식은 1년 내로 50%로 오를 주식입니다.\n",
    "    - 이게 다가 아니고 진짜 중요한 것은 두번쨰\n",
    "    - 1년 내에 시장에 있는 모든 사람들이 이 주식을 50%오른다고 믿게 될거에요!\n",
    "    - 이 뜻임\n",
    "    - 이것이 가능할려면 뚜렷한 오르는 증거가있고 지금나는 그것을 먼저봤어\n",
    "    - 그리고 1년 내에 사람들이 이것을 알거야"
   ]
  },
  {
   "cell_type": "markdown",
   "metadata": {},
   "source": [
    "### 가우시안 백색잡음\n",
    "### 비-가우시안 백색잡음\n",
    "### 스펙트럼은 무시하셈 (도메인부분)"
   ]
  },
  {
   "cell_type": "markdown",
   "metadata": {},
   "source": []
  },
  {
   "cell_type": "markdown",
   "metadata": {},
   "source": [
    "# < 이산 시간 랜덤 워크 >"
   ]
  },
  {
   "cell_type": "markdown",
   "metadata": {},
   "source": [
    "- 백색 잡음에서 나온 애들을 단순히 누적을 시킴\n",
    "- 처음엔 그냥 백색잡음\n",
    "- 어제나온 뉴스와 오늘뉴스를 합침\n",
    "- 그저께나온 뉴스와 어제 뉴스와 오늘 뉴스를 합침\n",
    "- W1은 가위바위보해서 계단을 결정하는 처음\n",
    "- W2는 가위바위보해서 계단을 결정하는 두번째\n",
    "- ...\n",
    "- 기댓값은 0\n",
    "- 분산은 시간이 지날수록 커짐\n",
    "- 그럼 표준 편차는? => sqare root가 씌워짐\n",
    "- 변동성이 시간의 제곱근의 비례\n",
    "    - 어떤 주식을 샀는데 하루에 + - 10만원 정도 하는 듯\n",
    "    - 대략 16 ** 2 정도 일 수만큼 trade를 함\n",
    "    - 실제로는 1년 동안 왔다갔다하는것이 16 ** 2 *10만에 root를 씌운 만큼 왔다갔다함\n",
    "    - 만약 주식을 할거면 매일매일 들여다보셈 매일 trading을 하지는 말고"
   ]
  },
  {
   "cell_type": "markdown",
   "metadata": {},
   "source": []
  },
  {
   "cell_type": "markdown",
   "metadata": {},
   "source": [
    "# < 일반 선형 확률 과정 모형 >"
   ]
  },
  {
   "cell_type": "markdown",
   "metadata": {},
   "source": [
    "- 고전적인 시계열에서는 다 선형 조합들을 사용\n",
    "- 주가 이외에 것에서는 시간이 갈수록 백색잡음 들이 영향력이 바뀔수있음\n",
    "- 지금 까지 예측하지 못한것들의 선형 조합이 오늘의 예측값\n",
    "- but 무한대인 애들은 다루지 못하기 때문에 이것들을 유한한 몇개의 블럭(항)으로 만드는 방법을 생각해야함\n",
    "- 크게 세가지가 있음 (MA, AR, ARMA)\n",
    "##### MA\n",
    "    - 어떤 시그널은 (영향력이 보통 이쯤되면 없어 지더라) 하는 것을 끈음\n",
    "    - 어떤 시그널은 절대 끈을 수없는 것도 있음 = 과거에남아서 계속 영향을 미침\n",
    "    - Y_1은 자기 자신의 값에 선형조합임\n",
    "    - 왼쪽은 pred 오른쪽은 feature = 자기자신의 과거값\n",
    "    - 자기 자신의 과거값으로 회귀 분석을 해라\n",
    "    - -가 붙은 이유는 universal하는 것은 아니고 표기법이라서 사람마다 다름\n",
    "    - 이 표기법은 statsmodel 패키지의 표기법을 따름"
   ]
  },
  {
   "cell_type": "markdown",
   "metadata": {},
   "source": [
    "박사님이 강의노트 내용 바꿨어요. 참고~"
   ]
  },
  {
   "cell_type": "markdown",
   "metadata": {},
   "source": []
  },
  {
   "cell_type": "markdown",
   "metadata": {},
   "source": [
    "# < StatsModels 의 ARMA 클래스 >"
   ]
  },
  {
   "cell_type": "markdown",
   "metadata": {},
   "source": [
    "- 우리가 시뮬레이션에서 주사위 = ArmaProcess\n",
    "- 데이터에서 모델계수를 추정 = ARMA"
   ]
  },
  {
   "cell_type": "code",
   "execution_count": 5,
   "metadata": {},
   "outputs": [
    {
     "data": {
      "image/png": "[encoded data removed]",
      "text/plain": [
       "<Figure size 432x288 with 1 Axes>"
      ]
     },
     "metadata": {},
     "output_type": "display_data"
    },
    {
     "data": {
      "image/png": "[encoded data removed]",
      "text/plain": [
       "<Figure size 432x288 with 3 Axes>"
      ]
     },
     "metadata": {},
     "output_type": "display_data"
    }
   ],
   "source": [
    "# ArmaProcess 클래스 사용법\n",
    "ar = np.r_[1, -0.75, 0.25] \n",
    "ma = np.r_[1, 0.65, 0.35]\n",
    "m = sm.tsa.ArmaProcess(ar, ma)\n",
    "np.random.seed(12345)\n",
    "x = m.generate_sample(100)\n",
    "plt.plot(x)\n",
    "plt.show()\n",
    "plt.subplot(311)\n",
    "plt.stem(m.acovf(10))\n",
    "plt.subplot(312)\n",
    "plt.stem(m.acf(10))\n",
    "plt.subplot(313)\n",
    "plt.stem(m.pacf(10))\n",
    "plt.show()"
   ]
  },
  {
   "cell_type": "markdown",
   "metadata": {},
   "source": [
    "- acf() 가 가장 중요 = corr 값\n",
    "- 점점 corr 이 떨어짐 = 점점 feature로서 영향력이 없음 = 도움이 안됨\n",
    "- 위에 두개는 같고 밑에것은 다음시간에 ... "
   ]
  },
  {
   "cell_type": "markdown",
   "metadata": {},
   "source": [
    "### ARMA 및 ARMAResults 클래스 사용법\n",
    "- 시계열에서는 기본적으로 normal분포만 사용 = z 만 사용가능\n",
    "- 여기에 따르면 사실 arma(1,2)를 써도 됬었음\n",
    "- predict에 해당하는 forcast라는 명령어가 있음\n",
    "- 맨밑에 초록색 예측값은 뭐냐?\n",
    "    - 우리가 y를 예측한다는 것은 expectation을 예측\n",
    "    - 그것은 in note\n",
    "    - 나흘뒤면 예측력이 없어짐"
   ]
  },
  {
   "cell_type": "code",
   "execution_count": 13,
   "metadata": {
    "scrolled": true
   },
   "outputs": [
    {
     "name": "stdout",
     "output_type": "stream",
     "text": [
      "                              ARMA Model Results                              \n",
      "==============================================================================\n",
      "Dep. Variable:                      y   No. Observations:                  100\n",
      "Model:                     ARMA(1, 2)   Log Likelihood                -144.394\n",
      "Method:                       css-mle   S.D. of innovations              1.012\n",
      "Date:                Tue, 14 Aug 2018   AIC                            298.789\n",
      "Time:                        20:44:01   BIC                            311.815\n",
      "Sample:                             0   HQIC                           304.061\n",
      "                                                                              \n",
      "==============================================================================\n",
      "                 coef    std err          z      P>|z|      [0.025      0.975]\n",
      "------------------------------------------------------------------------------\n",
      "const          0.1148      0.564      0.204      0.839      -0.990       1.220\n",
      "ar.L1.y        0.5721      0.094      6.069      0.000       0.387       0.757\n",
      "ma.L1.y        0.9107      0.092      9.875      0.000       0.730       1.091\n",
      "ma.L2.y        0.5222      0.092      5.659      0.000       0.341       0.703\n",
      "                                    Roots                                    \n",
      "=============================================================================\n",
      "                 Real           Imaginary           Modulus         Frequency\n",
      "-----------------------------------------------------------------------------\n",
      "AR.1            1.7481           +0.0000j            1.7481            0.0000\n",
      "MA.1           -0.8719           -1.0745j            1.3838           -0.3585\n",
      "MA.2           -0.8719           +1.0745j            1.3838            0.3585\n",
      "-----------------------------------------------------------------------------\n"
     ]
    },
    {
     "name": "stderr",
     "output_type": "stream",
     "text": [
      "C:\\ProgramData\\Anaconda3\\lib\\site-packages\\statsmodels\\tsa\\kalmanf\\kalmanfilter.py:646: FutureWarning: Conversion of the second argument of issubdtype from `float` to `np.floating` is deprecated. In future, it will be treated as `np.float64 == np.dtype(float).type`.\n",
      "  if issubdtype(paramsdtype, float):\n",
      "C:\\ProgramData\\Anaconda3\\lib\\site-packages\\statsmodels\\tsa\\kalmanf\\kalmanfilter.py:650: FutureWarning: Conversion of the second argument of issubdtype from `complex` to `np.complexfloating` is deprecated. In future, it will be treated as `np.complex128 == np.dtype(complex).type`.\n",
      "  elif issubdtype(paramsdtype, complex):\n"
     ]
    }
   ],
   "source": [
    "m2 = sm.tsa.ARMA(x, (1, 2))\n",
    "r = m2.fit(disp=False)\n",
    "print(r.summary())"
   ]
  },
  {
   "cell_type": "code",
   "execution_count": 12,
   "metadata": {
    "scrolled": true
   },
   "outputs": [
    {
     "name": "stderr",
     "output_type": "stream",
     "text": [
      "C:\\ProgramData\\Anaconda3\\lib\\site-packages\\ipykernel_launcher.py:3: MatplotlibDeprecationWarning: pyplot.hold is deprecated.\n",
      "    Future behavior will be consistent with the long-time default:\n",
      "    plot commands add elements without first clearing the\n",
      "    Axes and/or Figure.\n",
      "  This is separate from the ipykernel package so we can avoid doing imports until\n",
      "C:\\ProgramData\\Anaconda3\\lib\\site-packages\\matplotlib\\__init__.py:911: MatplotlibDeprecationWarning: axes.hold is deprecated. Please remove it from your matplotlibrc and/or style files.\n",
      "  mplDeprecation)\n",
      "C:\\ProgramData\\Anaconda3\\lib\\site-packages\\matplotlib\\rcsetup.py:156: MatplotlibDeprecationWarning: axes.hold is deprecated, will be removed in 3.0\n",
      "  mplDeprecation)\n",
      "C:\\ProgramData\\Anaconda3\\lib\\site-packages\\ipykernel_launcher.py:7: MatplotlibDeprecationWarning: pyplot.hold is deprecated.\n",
      "    Future behavior will be consistent with the long-time default:\n",
      "    plot commands add elements without first clearing the\n",
      "    Axes and/or Figure.\n",
      "  import sys\n",
      "C:\\ProgramData\\Anaconda3\\lib\\site-packages\\statsmodels\\tsa\\kalmanf\\kalmanfilter.py:577: FutureWarning: Conversion of the second argument of issubdtype from `float` to `np.floating` is deprecated. In future, it will be treated as `np.float64 == np.dtype(float).type`.\n",
      "  if issubdtype(paramsdtype, float):\n"
     ]
    },
    {
     "data": {
      "image/png": "[encoded data removed]",
      "text/plain": [
       "<Figure size 432x288 with 1 Axes>"
      ]
     },
     "metadata": {},
     "output_type": "display_data"
    },
    {
     "data": {
      "image/png": "[encoded data removed]",
      "text/plain": [
       "<Figure size 432x288 with 1 Axes>"
      ]
     },
     "metadata": {},
     "output_type": "display_data"
    }
   ],
   "source": [
    "plt.figure(1)\n",
    "plt.plot(r.model.endog, marker='o')\n",
    "plt.hold(True)\n",
    "plt.plot(np.r_[[np.nan] * 100, r.forecast(20)[0]], marker='o'); plt.axvspan(xmin=100, xmax=120, alpha=0.2)\n",
    "plt.figure(2)\n",
    "plt.plot(r.model.endog, marker='o')\n",
    "plt.hold(True)\n",
    "plt.plot(np.r_[[np.nan] * 20, r.predict(20, dynamic=True)], marker='o'); plt.axvspan(xmin=20, xmax=100, alpha=0.2)\n",
    "plt.show()"
   ]
  },
  {
   "cell_type": "markdown",
   "metadata": {},
   "source": []
  },
  {
   "cell_type": "markdown",
   "metadata": {},
   "source": [
    "# < 1차 Moving Average (MA) 모형 >"
   ]
  },
  {
   "cell_type": "markdown",
   "metadata": {},
   "source": [
    "### MA(1) 모형\n",
    "- In note\n",
    "- 오늘의 y값은 어제의 뉴스에만 영향을 받음\n",
    "- leg가 1보다 커지면 corr가 0\n",
    "- 여기 pearsonr는 원래 0.5 여야하는데 샘플수가 적어서 약간 오차가있음"
   ]
  },
  {
   "cell_type": "markdown",
   "metadata": {},
   "source": []
  },
  {
   "cell_type": "markdown",
   "metadata": {},
   "source": [
    "# < 다차 Moving Average (MA) 모형 >"
   ]
  },
  {
   "cell_type": "markdown",
   "metadata": {},
   "source": [
    "### 2차 MA 모형. MA(2)\n",
    "- 2차면 오늘의 y값은 오늘의뉴스 어제의 뉴스 그저께의 뉴스에 영향을 받음\n",
    "\n",
    "### 일반적인  q 차 MA(q) 모형\n",
    "- q차까지는 corr이 존재하지만 그다음부터는 0이 됨\n",
    "- 현실적으로는 3차정도만 씀\n",
    "- 왜냐면 그이상 해봤자 잘 안맞아"
   ]
  },
  {
   "cell_type": "markdown",
   "metadata": {},
   "source": []
  },
  {
   "cell_type": "markdown",
   "metadata": {},
   "source": [
    "# < 1차 Autoregressive (AR) 모형 >"
   ]
  },
  {
   "cell_type": "markdown",
   "metadata": {},
   "source": [
    "- corr 가 점점 감소\n",
    "- 파이값에 의해서 점점 감소는 되겠지만 계속 남아는 있음\n",
    "- 값이 사라지지않고 끝까지 남아서 영향을 주는 모델이 AR"
   ]
  },
  {
   "cell_type": "markdown",
   "metadata": {},
   "source": []
  },
  {
   "cell_type": "markdown",
   "metadata": {},
   "source": [
    "# < 2차 Autoregressive (AR) 모형 >"
   ]
  },
  {
   "cell_type": "markdown",
   "metadata": {},
   "source": [
    "- 주기를 마음대로 조절할수있음\n",
    "- y값들사이에 corr를 보고 AR2라는 것을 판단..... 하면 좋겠지만 현실적으로는 불가능\n",
    "- 현실적으로는 AR몇차모델인지 아는 것은 불가능함ㅠ\n",
    "- 점점 더 지저분한 모델이 나오면 불가능"
   ]
  },
  {
   "cell_type": "markdown",
   "metadata": {},
   "source": []
  },
  {
   "cell_type": "markdown",
   "metadata": {},
   "source": [
    "# < ARMA 모형 >"
   ]
  },
  {
   "cell_type": "markdown",
   "metadata": {},
   "source": [
    "- 그려보면 우리가 그릴수있는 모든 모형이 다나옴\n",
    "- 원래는 차원을 알아내는 것에 초점을 맞췄었는데 사실 우리는 3,3모델만 씀\n",
    "- 그닌깐 우리가 다돌려서 liklihood가 높은 것을 쓰면됨\n",
    "- stationary 에 만 사용가능"
   ]
  },
  {
   "cell_type": "markdown",
   "metadata": {},
   "source": []
  },
  {
   "cell_type": "markdown",
   "metadata": {},
   "source": [
    "# < ARIMA 모형 >"
   ]
  },
  {
   "cell_type": "markdown",
   "metadata": {},
   "source": [
    "- y값 자체만으로는 non stationary임\n",
    "- 근대 어제꺼에서 오늘꺼를 빼면 변화의 정도가 나옴\n",
    "- 이거는 stationary한 경우가 나오는 경우가 있음\n",
    "- 한번해서 안되면 두번하고 3번하면 나올때가 있음\n",
    "- ex) 매출의 차액의 차액\n",
    "- N번의 차액을했다 에서 N이 적분차수 라고 함\n",
    "- ARIMA(ar, 적분차수(보통 1), ma)"
   ]
  },
  {
   "cell_type": "markdown",
   "metadata": {},
   "source": [
    "### 단위근 특성\n",
    "- 이잔뜩 긴 식에서 핵심은 맨아래\n",
    "- 한번 차분했을 때 인수분해가 이렇게 됨(1차로 nonstationary)\n",
    "- unit root = 단위 근\n",
    "- 밑에 그래프에 예시"
   ]
  },
  {
   "cell_type": "markdown",
   "metadata": {},
   "source": []
  },
  {
   "cell_type": "markdown",
   "metadata": {},
   "source": [
    "# < Dickey-Fuller 단위근 검정 >"
   ]
  },
  {
   "cell_type": "markdown",
   "metadata": {},
   "source": [
    "$ \\nabla Y_t = a Y_{t-1} + \\phi_1 \\nabla Y_{t-1} + \\phi_2 \\nabla Y_{t-2} + \\cdots + \\phi_p \\nabla Y_{t-p} + e_t $\n",
    "\n",
    "- 여기서 왼쪽을 y 오른쪽을 X 라고 하고 OLS해보면...\n"
   ]
  },
  {
   "cell_type": "markdown",
   "metadata": {},
   "source": [
    "`sm.tsa.adfuller(y2)`\n",
    "- 에서 나온 값중 두번째 값만 보면 됨\n",
    "- 귀무가설은 nonstationary\n",
    "\n",
    "`sm.tsa.adfuller(y1)`\n",
    "- 0.77840593684886783\n",
    "- 아직 nonstationary\n",
    "\n",
    "`sm.tsa.adfuller(y0)`\n",
    "- 이제 stationary"
   ]
  },
  {
   "cell_type": "markdown",
   "metadata": {},
   "source": []
  },
  {
   "cell_type": "markdown",
   "metadata": {},
   "source": [
    "# < 단순 Seasonal ARIMA 모형 >"
   ]
  },
  {
   "cell_type": "markdown",
   "metadata": {},
   "source": [
    "- 1년을 주기로 변화한다 = seasonal\n",
    "- 분기는 4번을 주기로 진동\n",
    "- 예를 들어 주식단위 거래량은 5일단위로 진동\n",
    "- auto corr이 12개 주기로 corr가 강하게 나옴\n",
    "- ar은 모양이안나오고 ma는 차수가 너무크고....\n",
    "- 그래서 생각해낸 꼼수는?\n",
    "- $Y_t = e_t - \\Theta e_{t-12}$\n",
    "- 같은 월에 있는 애들끼리 묶어서 하나의 시계열이 됨\n",
    "- $Y_t = \\Phi Y_{t-12} + e_t$\n",
    "- 올해 8월에 영향을 미치는 애는 작년 8월에 있던 것이 영향을 미침\n",
    "- 그룹끼리 모아서 modeling은 하되 그룹끼리의 corr는 0\n",
    "- $\\phi(L)Y_t = \\theta(L)e_t$\n",
    "- 항상 12개 간격으로만 modeling을 하니깐\n",
    "- 이렇게 쓴게 seasonal arma모델\n",
    "##### `이부분은 잘모르겠음.....`"
   ]
  },
  {
   "cell_type": "markdown",
   "metadata": {},
   "source": []
  },
  {
   "cell_type": "markdown",
   "metadata": {},
   "source": []
  },
  {
   "cell_type": "markdown",
   "metadata": {},
   "source": []
  },
  {
   "cell_type": "markdown",
   "metadata": {},
   "source": []
  }
 ],
 "metadata": {
  "kernelspec": {
   "display_name": "Python 3",
   "language": "python",
   "name": "python3"
  },
  "language_info": {
   "codemirror_mode": {
    "name": "ipython",
    "version": 3
   },
   "file_extension": ".py",
   "mimetype": "text/x-python",
   "name": "python",
   "nbconvert_exporter": "python",
   "pygments_lexer": "ipython3",
   "version": "3.6.4"
  }
 },
 "nbformat": 4,
 "nbformat_minor": 2
}
